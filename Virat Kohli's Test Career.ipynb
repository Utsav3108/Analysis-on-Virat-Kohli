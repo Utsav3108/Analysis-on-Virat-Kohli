{
 "cells": [
  {
   "cell_type": "markdown",
   "id": "3e7ea072",
   "metadata": {},
   "source": [
    "<h1>Analysis on Virat Kohli's Test Career</h1>\n",
    "<p>Virat Kohli is brilliant cricketer of the current generation. Let's Analyse his Test career from the data of ESPNCricinfo </p>"
   ]
  },
  {
   "cell_type": "code",
   "execution_count": 175,
   "id": "4baf7609",
   "metadata": {},
   "outputs": [],
   "source": [
    "import pandas as pd\n",
    "import numpy as np\n",
    "vkstats = pd.read_html(\"https://stats.espncricinfo.com/ci/engine/player/253802.html?class=1;template=results;type=batting;view=innings\")"
   ]
  },
  {
   "cell_type": "code",
   "execution_count": 176,
   "id": "64211d9a",
   "metadata": {},
   "outputs": [
    {
     "data": {
      "text/html": [
       "<div>\n",
       "<style scoped>\n",
       "    .dataframe tbody tr th:only-of-type {\n",
       "        vertical-align: middle;\n",
       "    }\n",
       "\n",
       "    .dataframe tbody tr th {\n",
       "        vertical-align: top;\n",
       "    }\n",
       "\n",
       "    .dataframe thead th {\n",
       "        text-align: right;\n",
       "    }\n",
       "</style>\n",
       "<table border=\"1\" class=\"dataframe\">\n",
       "  <thead>\n",
       "    <tr style=\"text-align: right;\">\n",
       "      <th></th>\n",
       "      <th>Runs</th>\n",
       "      <th>Mins</th>\n",
       "      <th>BF</th>\n",
       "      <th>4s</th>\n",
       "      <th>6s</th>\n",
       "      <th>SR</th>\n",
       "      <th>Pos</th>\n",
       "      <th>Dismissal</th>\n",
       "      <th>Inns</th>\n",
       "      <th>Unnamed: 9</th>\n",
       "      <th>Opposition</th>\n",
       "      <th>Ground</th>\n",
       "      <th>Start Date</th>\n",
       "      <th>Unnamed: 13</th>\n",
       "    </tr>\n",
       "  </thead>\n",
       "  <tbody>\n",
       "    <tr>\n",
       "      <th>0</th>\n",
       "      <td>4</td>\n",
       "      <td>13</td>\n",
       "      <td>10</td>\n",
       "      <td>1</td>\n",
       "      <td>0</td>\n",
       "      <td>40.00</td>\n",
       "      <td>5</td>\n",
       "      <td>caught</td>\n",
       "      <td>1</td>\n",
       "      <td>NaN</td>\n",
       "      <td>v West Indies</td>\n",
       "      <td>Kingston</td>\n",
       "      <td>20 Jun 2011</td>\n",
       "      <td>Test # 1997</td>\n",
       "    </tr>\n",
       "    <tr>\n",
       "      <th>1</th>\n",
       "      <td>15</td>\n",
       "      <td>72</td>\n",
       "      <td>54</td>\n",
       "      <td>2</td>\n",
       "      <td>0</td>\n",
       "      <td>27.77</td>\n",
       "      <td>5</td>\n",
       "      <td>caught</td>\n",
       "      <td>3</td>\n",
       "      <td>NaN</td>\n",
       "      <td>v West Indies</td>\n",
       "      <td>Kingston</td>\n",
       "      <td>20 Jun 2011</td>\n",
       "      <td>Test # 1997</td>\n",
       "    </tr>\n",
       "    <tr>\n",
       "      <th>2</th>\n",
       "      <td>0</td>\n",
       "      <td>1</td>\n",
       "      <td>2</td>\n",
       "      <td>0</td>\n",
       "      <td>0</td>\n",
       "      <td>0.00</td>\n",
       "      <td>5</td>\n",
       "      <td>caught</td>\n",
       "      <td>1</td>\n",
       "      <td>NaN</td>\n",
       "      <td>v West Indies</td>\n",
       "      <td>Bridgetown</td>\n",
       "      <td>28 Jun 2011</td>\n",
       "      <td>Test # 1998</td>\n",
       "    </tr>\n",
       "    <tr>\n",
       "      <th>3</th>\n",
       "      <td>27</td>\n",
       "      <td>118</td>\n",
       "      <td>107</td>\n",
       "      <td>1</td>\n",
       "      <td>1</td>\n",
       "      <td>25.23</td>\n",
       "      <td>5</td>\n",
       "      <td>caught</td>\n",
       "      <td>3</td>\n",
       "      <td>NaN</td>\n",
       "      <td>v West Indies</td>\n",
       "      <td>Bridgetown</td>\n",
       "      <td>28 Jun 2011</td>\n",
       "      <td>Test # 1998</td>\n",
       "    </tr>\n",
       "    <tr>\n",
       "      <th>4</th>\n",
       "      <td>30</td>\n",
       "      <td>62</td>\n",
       "      <td>53</td>\n",
       "      <td>2</td>\n",
       "      <td>0</td>\n",
       "      <td>56.60</td>\n",
       "      <td>5</td>\n",
       "      <td>caught</td>\n",
       "      <td>2</td>\n",
       "      <td>NaN</td>\n",
       "      <td>v West Indies</td>\n",
       "      <td>Roseau</td>\n",
       "      <td>6 Jul 2011</td>\n",
       "      <td>Test # 1999</td>\n",
       "    </tr>\n",
       "    <tr>\n",
       "      <th>...</th>\n",
       "      <td>...</td>\n",
       "      <td>...</td>\n",
       "      <td>...</td>\n",
       "      <td>...</td>\n",
       "      <td>...</td>\n",
       "      <td>...</td>\n",
       "      <td>...</td>\n",
       "      <td>...</td>\n",
       "      <td>...</td>\n",
       "      <td>...</td>\n",
       "      <td>...</td>\n",
       "      <td>...</td>\n",
       "      <td>...</td>\n",
       "      <td>...</td>\n",
       "    </tr>\n",
       "    <tr>\n",
       "      <th>175</th>\n",
       "      <td>45</td>\n",
       "      <td>106</td>\n",
       "      <td>76</td>\n",
       "      <td>5</td>\n",
       "      <td>0</td>\n",
       "      <td>59.21</td>\n",
       "      <td>4</td>\n",
       "      <td>bowled</td>\n",
       "      <td>1</td>\n",
       "      <td>NaN</td>\n",
       "      <td>v Sri Lanka</td>\n",
       "      <td>Mohali</td>\n",
       "      <td>4 Mar 2022</td>\n",
       "      <td>Test # 2452</td>\n",
       "    </tr>\n",
       "    <tr>\n",
       "      <th>176</th>\n",
       "      <td>23</td>\n",
       "      <td>63</td>\n",
       "      <td>48</td>\n",
       "      <td>2</td>\n",
       "      <td>0</td>\n",
       "      <td>47.91</td>\n",
       "      <td>4</td>\n",
       "      <td>lbw</td>\n",
       "      <td>1</td>\n",
       "      <td>NaN</td>\n",
       "      <td>v Sri Lanka</td>\n",
       "      <td>Bengaluru</td>\n",
       "      <td>12 Mar 2022</td>\n",
       "      <td>Test # 2456</td>\n",
       "    </tr>\n",
       "    <tr>\n",
       "      <th>177</th>\n",
       "      <td>13</td>\n",
       "      <td>27</td>\n",
       "      <td>16</td>\n",
       "      <td>1</td>\n",
       "      <td>0</td>\n",
       "      <td>81.25</td>\n",
       "      <td>4</td>\n",
       "      <td>lbw</td>\n",
       "      <td>3</td>\n",
       "      <td>NaN</td>\n",
       "      <td>v Sri Lanka</td>\n",
       "      <td>Bengaluru</td>\n",
       "      <td>12 Mar 2022</td>\n",
       "      <td>Test # 2456</td>\n",
       "    </tr>\n",
       "    <tr>\n",
       "      <th>178</th>\n",
       "      <td>11</td>\n",
       "      <td>33</td>\n",
       "      <td>19</td>\n",
       "      <td>2</td>\n",
       "      <td>0</td>\n",
       "      <td>57.89</td>\n",
       "      <td>4</td>\n",
       "      <td>bowled</td>\n",
       "      <td>1</td>\n",
       "      <td>NaN</td>\n",
       "      <td>v England</td>\n",
       "      <td>Birmingham</td>\n",
       "      <td>1 Jul 2022</td>\n",
       "      <td>Test # 2470</td>\n",
       "    </tr>\n",
       "    <tr>\n",
       "      <th>179</th>\n",
       "      <td>20</td>\n",
       "      <td>64</td>\n",
       "      <td>40</td>\n",
       "      <td>4</td>\n",
       "      <td>0</td>\n",
       "      <td>50.00</td>\n",
       "      <td>4</td>\n",
       "      <td>caught</td>\n",
       "      <td>3</td>\n",
       "      <td>NaN</td>\n",
       "      <td>v England</td>\n",
       "      <td>Birmingham</td>\n",
       "      <td>1 Jul 2022</td>\n",
       "      <td>Test # 2470</td>\n",
       "    </tr>\n",
       "  </tbody>\n",
       "</table>\n",
       "<p>180 rows × 14 columns</p>\n",
       "</div>"
      ],
      "text/plain": [
       "    Runs Mins   BF 4s 6s     SR Pos Dismissal Inns  Unnamed: 9     Opposition  \\\n",
       "0      4   13   10  1  0  40.00   5    caught    1         NaN  v West Indies   \n",
       "1     15   72   54  2  0  27.77   5    caught    3         NaN  v West Indies   \n",
       "2      0    1    2  0  0   0.00   5    caught    1         NaN  v West Indies   \n",
       "3     27  118  107  1  1  25.23   5    caught    3         NaN  v West Indies   \n",
       "4     30   62   53  2  0  56.60   5    caught    2         NaN  v West Indies   \n",
       "..   ...  ...  ... .. ..    ...  ..       ...  ...         ...            ...   \n",
       "175   45  106   76  5  0  59.21   4    bowled    1         NaN    v Sri Lanka   \n",
       "176   23   63   48  2  0  47.91   4       lbw    1         NaN    v Sri Lanka   \n",
       "177   13   27   16  1  0  81.25   4       lbw    3         NaN    v Sri Lanka   \n",
       "178   11   33   19  2  0  57.89   4    bowled    1         NaN      v England   \n",
       "179   20   64   40  4  0  50.00   4    caught    3         NaN      v England   \n",
       "\n",
       "         Ground   Start Date  Unnamed: 13  \n",
       "0      Kingston  20 Jun 2011  Test # 1997  \n",
       "1      Kingston  20 Jun 2011  Test # 1997  \n",
       "2    Bridgetown  28 Jun 2011  Test # 1998  \n",
       "3    Bridgetown  28 Jun 2011  Test # 1998  \n",
       "4        Roseau   6 Jul 2011  Test # 1999  \n",
       "..          ...          ...          ...  \n",
       "175      Mohali   4 Mar 2022  Test # 2452  \n",
       "176   Bengaluru  12 Mar 2022  Test # 2456  \n",
       "177   Bengaluru  12 Mar 2022  Test # 2456  \n",
       "178  Birmingham   1 Jul 2022  Test # 2470  \n",
       "179  Birmingham   1 Jul 2022  Test # 2470  \n",
       "\n",
       "[180 rows x 14 columns]"
      ]
     },
     "execution_count": 176,
     "metadata": {},
     "output_type": "execute_result"
    }
   ],
   "source": [
    "Test = vkstats[3]\n",
    "Test"
   ]
  },
  {
   "cell_type": "code",
   "execution_count": 177,
   "id": "efb0bc90",
   "metadata": {},
   "outputs": [
    {
     "data": {
      "text/plain": [
       "array(['4', '15', '0', '27', '30', 'DNB', '52', '63', '11', '23', '9',\n",
       "       '44', '75', '116', '22', '58', '103', '51*', '19', '14*', '7', '6',\n",
       "       '20', '107', '34', '67*', '1', '41', '3', '57', '119', '96', '46',\n",
       "       '67', '38', '105*', '8', '25', '39', '28', '115', '141', '169',\n",
       "       '54', '147', '14', '78', '10', '18', '21', '29', '16', '88', '200',\n",
       "       'TDNB', '45', '211', '17', '40', '49*', '167', '81', '62', '6*',\n",
       "       '235', '204', '13', '12', '103*', '42', '104*', '213', '243', '50',\n",
       "       '5', '153', '149', '51', '97', '49', '139', '123', '82', '76',\n",
       "       '31*', '254*', '136', '2', '74', '72', '55', '36', '35', '79'],\n",
       "      dtype=object)"
      ]
     },
     "execution_count": 177,
     "metadata": {},
     "output_type": "execute_result"
    }
   ],
   "source": [
    "Test.Runs.unique()"
   ]
  },
  {
   "cell_type": "code",
   "execution_count": 178,
   "id": "096b7eb9",
   "metadata": {},
   "outputs": [
    {
     "data": {
      "text/plain": [
       "Runs             0\n",
       "Mins             0\n",
       "BF               0\n",
       "4s               0\n",
       "6s               0\n",
       "SR               0\n",
       "Pos              0\n",
       "Dismissal        0\n",
       "Inns             0\n",
       "Unnamed: 9     180\n",
       "Opposition       0\n",
       "Ground           0\n",
       "Start Date       0\n",
       "Unnamed: 13      0\n",
       "dtype: int64"
      ]
     },
     "execution_count": 178,
     "metadata": {},
     "output_type": "execute_result"
    }
   ],
   "source": [
    "Test.isna().sum()"
   ]
  },
  {
   "cell_type": "markdown",
   "id": "2c2e026d",
   "metadata": {},
   "source": [
    "<b>Removing and Editing the values in Runs Columns </b>"
   ]
  },
  {
   "cell_type": "code",
   "execution_count": 179,
   "id": "901b5396",
   "metadata": {},
   "outputs": [],
   "source": [
    "def removeStar(data):\n",
    "    if data == 'DNB' or data == 'TDNB':\n",
    "        return None\n",
    "    runs = data.split('*')\n",
    "    return int(runs[0])"
   ]
  },
  {
   "cell_type": "code",
   "execution_count": 180,
   "id": "6790b3ed",
   "metadata": {},
   "outputs": [],
   "source": [
    "Test.Runs = Test.Runs.apply(removeStar)"
   ]
  },
  {
   "cell_type": "code",
   "execution_count": 181,
   "id": "ad5c3323",
   "metadata": {},
   "outputs": [
    {
     "data": {
      "text/plain": [
       "Runs             7\n",
       "Mins             0\n",
       "BF               0\n",
       "4s               0\n",
       "6s               0\n",
       "SR               0\n",
       "Pos              0\n",
       "Dismissal        0\n",
       "Inns             0\n",
       "Unnamed: 9     180\n",
       "Opposition       0\n",
       "Ground           0\n",
       "Start Date       0\n",
       "Unnamed: 13      0\n",
       "dtype: int64"
      ]
     },
     "execution_count": 181,
     "metadata": {},
     "output_type": "execute_result"
    }
   ],
   "source": [
    "Test.isna().sum()"
   ]
  },
  {
   "cell_type": "code",
   "execution_count": 182,
   "id": "5e4ff656",
   "metadata": {},
   "outputs": [],
   "source": [
    "Test.drop('Unnamed: 9',inplace=True,axis='columns')"
   ]
  },
  {
   "cell_type": "code",
   "execution_count": 183,
   "id": "f4033082",
   "metadata": {},
   "outputs": [],
   "source": [
    "Test.dropna(inplace=True)"
   ]
  },
  {
   "cell_type": "code",
   "execution_count": 184,
   "id": "5ebb0d96",
   "metadata": {},
   "outputs": [
    {
     "data": {
      "text/plain": [
       "8074.0"
      ]
     },
     "execution_count": 184,
     "metadata": {},
     "output_type": "execute_result"
    }
   ],
   "source": [
    "Test.Runs.sum()"
   ]
  },
  {
   "cell_type": "code",
   "execution_count": 185,
   "id": "2e1c57d6",
   "metadata": {},
   "outputs": [
    {
     "data": {
      "text/plain": [
       "<AxesSubplot:xlabel='Runs', ylabel='Count'>"
      ]
     },
     "execution_count": 185,
     "metadata": {},
     "output_type": "execute_result"
    },
    {
     "data": {
      "image/png": "[encoded data removed]",
      "text/plain": [
       "<Figure size 432x288 with 1 Axes>"
      ]
     },
     "metadata": {
      "needs_background": "light"
     },
     "output_type": "display_data"
    }
   ],
   "source": [
    "import seaborn as sn\n",
    "sn.histplot(Test['Runs'],kde=True)"
   ]
  },
  {
   "cell_type": "code",
   "execution_count": 186,
   "id": "30fd2689",
   "metadata": {},
   "outputs": [
    {
     "name": "stderr",
     "output_type": "stream",
     "text": [
      "c:\\users\\pandy\\appdata\\local\\programs\\python\\python39\\lib\\site-packages\\seaborn\\_decorators.py:36: FutureWarning: Pass the following variable as a keyword arg: x. From version 0.12, the only valid positional argument will be `data`, and passing other arguments without an explicit keyword will result in an error or misinterpretation.\n",
      "  warnings.warn(\n"
     ]
    },
    {
     "data": {
      "text/plain": [
       "<AxesSubplot:xlabel='Runs'>"
      ]
     },
     "execution_count": 186,
     "metadata": {},
     "output_type": "execute_result"
    },
    {
     "data": {
      "image/png": "[encoded data removed]",
      "text/plain": [
       "<Figure size 432x288 with 1 Axes>"
      ]
     },
     "metadata": {
      "needs_background": "light"
     },
     "output_type": "display_data"
    }
   ],
   "source": [
    "sn.boxplot(Test['Runs'])"
   ]
  },
  {
   "cell_type": "code",
   "execution_count": 187,
   "id": "c0c899b9",
   "metadata": {},
   "outputs": [],
   "source": [
    "Test['zscores'] = (Test['Runs'] - Test.Runs.mean())/Test.Runs.std()"
   ]
  },
  {
   "cell_type": "code",
   "execution_count": 188,
   "id": "d8bc1efe",
   "metadata": {},
   "outputs": [
    {
     "data": {
      "text/html": [
       "<div>\n",
       "<style scoped>\n",
       "    .dataframe tbody tr th:only-of-type {\n",
       "        vertical-align: middle;\n",
       "    }\n",
       "\n",
       "    .dataframe tbody tr th {\n",
       "        vertical-align: top;\n",
       "    }\n",
       "\n",
       "    .dataframe thead th {\n",
       "        text-align: right;\n",
       "    }\n",
       "</style>\n",
       "<table border=\"1\" class=\"dataframe\">\n",
       "  <thead>\n",
       "    <tr style=\"text-align: right;\">\n",
       "      <th></th>\n",
       "      <th>Runs</th>\n",
       "      <th>Mins</th>\n",
       "      <th>BF</th>\n",
       "      <th>4s</th>\n",
       "      <th>6s</th>\n",
       "      <th>SR</th>\n",
       "      <th>Pos</th>\n",
       "      <th>Dismissal</th>\n",
       "      <th>Inns</th>\n",
       "      <th>Opposition</th>\n",
       "      <th>Ground</th>\n",
       "      <th>Start Date</th>\n",
       "      <th>Unnamed: 13</th>\n",
       "      <th>zscores</th>\n",
       "    </tr>\n",
       "  </thead>\n",
       "  <tbody>\n",
       "    <tr>\n",
       "      <th>0</th>\n",
       "      <td>4.0</td>\n",
       "      <td>13</td>\n",
       "      <td>10</td>\n",
       "      <td>1</td>\n",
       "      <td>0</td>\n",
       "      <td>40.00</td>\n",
       "      <td>5</td>\n",
       "      <td>caught</td>\n",
       "      <td>1</td>\n",
       "      <td>v West Indies</td>\n",
       "      <td>Kingston</td>\n",
       "      <td>20 Jun 2011</td>\n",
       "      <td>Test # 1997</td>\n",
       "      <td>-0.797923</td>\n",
       "    </tr>\n",
       "    <tr>\n",
       "      <th>1</th>\n",
       "      <td>15.0</td>\n",
       "      <td>72</td>\n",
       "      <td>54</td>\n",
       "      <td>2</td>\n",
       "      <td>0</td>\n",
       "      <td>27.77</td>\n",
       "      <td>5</td>\n",
       "      <td>caught</td>\n",
       "      <td>3</td>\n",
       "      <td>v West Indies</td>\n",
       "      <td>Kingston</td>\n",
       "      <td>20 Jun 2011</td>\n",
       "      <td>Test # 1997</td>\n",
       "      <td>-0.592227</td>\n",
       "    </tr>\n",
       "    <tr>\n",
       "      <th>2</th>\n",
       "      <td>0.0</td>\n",
       "      <td>1</td>\n",
       "      <td>2</td>\n",
       "      <td>0</td>\n",
       "      <td>0</td>\n",
       "      <td>0.00</td>\n",
       "      <td>5</td>\n",
       "      <td>caught</td>\n",
       "      <td>1</td>\n",
       "      <td>v West Indies</td>\n",
       "      <td>Bridgetown</td>\n",
       "      <td>28 Jun 2011</td>\n",
       "      <td>Test # 1998</td>\n",
       "      <td>-0.872721</td>\n",
       "    </tr>\n",
       "    <tr>\n",
       "      <th>3</th>\n",
       "      <td>27.0</td>\n",
       "      <td>118</td>\n",
       "      <td>107</td>\n",
       "      <td>1</td>\n",
       "      <td>1</td>\n",
       "      <td>25.23</td>\n",
       "      <td>5</td>\n",
       "      <td>caught</td>\n",
       "      <td>3</td>\n",
       "      <td>v West Indies</td>\n",
       "      <td>Bridgetown</td>\n",
       "      <td>28 Jun 2011</td>\n",
       "      <td>Test # 1998</td>\n",
       "      <td>-0.367831</td>\n",
       "    </tr>\n",
       "    <tr>\n",
       "      <th>4</th>\n",
       "      <td>30.0</td>\n",
       "      <td>62</td>\n",
       "      <td>53</td>\n",
       "      <td>2</td>\n",
       "      <td>0</td>\n",
       "      <td>56.60</td>\n",
       "      <td>5</td>\n",
       "      <td>caught</td>\n",
       "      <td>2</td>\n",
       "      <td>v West Indies</td>\n",
       "      <td>Roseau</td>\n",
       "      <td>6 Jul 2011</td>\n",
       "      <td>Test # 1999</td>\n",
       "      <td>-0.311732</td>\n",
       "    </tr>\n",
       "    <tr>\n",
       "      <th>...</th>\n",
       "      <td>...</td>\n",
       "      <td>...</td>\n",
       "      <td>...</td>\n",
       "      <td>...</td>\n",
       "      <td>...</td>\n",
       "      <td>...</td>\n",
       "      <td>...</td>\n",
       "      <td>...</td>\n",
       "      <td>...</td>\n",
       "      <td>...</td>\n",
       "      <td>...</td>\n",
       "      <td>...</td>\n",
       "      <td>...</td>\n",
       "      <td>...</td>\n",
       "    </tr>\n",
       "    <tr>\n",
       "      <th>175</th>\n",
       "      <td>45.0</td>\n",
       "      <td>106</td>\n",
       "      <td>76</td>\n",
       "      <td>5</td>\n",
       "      <td>0</td>\n",
       "      <td>59.21</td>\n",
       "      <td>4</td>\n",
       "      <td>bowled</td>\n",
       "      <td>1</td>\n",
       "      <td>v Sri Lanka</td>\n",
       "      <td>Mohali</td>\n",
       "      <td>4 Mar 2022</td>\n",
       "      <td>Test # 2452</td>\n",
       "      <td>-0.031238</td>\n",
       "    </tr>\n",
       "    <tr>\n",
       "      <th>176</th>\n",
       "      <td>23.0</td>\n",
       "      <td>63</td>\n",
       "      <td>48</td>\n",
       "      <td>2</td>\n",
       "      <td>0</td>\n",
       "      <td>47.91</td>\n",
       "      <td>4</td>\n",
       "      <td>lbw</td>\n",
       "      <td>1</td>\n",
       "      <td>v Sri Lanka</td>\n",
       "      <td>Bengaluru</td>\n",
       "      <td>12 Mar 2022</td>\n",
       "      <td>Test # 2456</td>\n",
       "      <td>-0.442630</td>\n",
       "    </tr>\n",
       "    <tr>\n",
       "      <th>177</th>\n",
       "      <td>13.0</td>\n",
       "      <td>27</td>\n",
       "      <td>16</td>\n",
       "      <td>1</td>\n",
       "      <td>0</td>\n",
       "      <td>81.25</td>\n",
       "      <td>4</td>\n",
       "      <td>lbw</td>\n",
       "      <td>3</td>\n",
       "      <td>v Sri Lanka</td>\n",
       "      <td>Bengaluru</td>\n",
       "      <td>12 Mar 2022</td>\n",
       "      <td>Test # 2456</td>\n",
       "      <td>-0.629626</td>\n",
       "    </tr>\n",
       "    <tr>\n",
       "      <th>178</th>\n",
       "      <td>11.0</td>\n",
       "      <td>33</td>\n",
       "      <td>19</td>\n",
       "      <td>2</td>\n",
       "      <td>0</td>\n",
       "      <td>57.89</td>\n",
       "      <td>4</td>\n",
       "      <td>bowled</td>\n",
       "      <td>1</td>\n",
       "      <td>v England</td>\n",
       "      <td>Birmingham</td>\n",
       "      <td>1 Jul 2022</td>\n",
       "      <td>Test # 2470</td>\n",
       "      <td>-0.667025</td>\n",
       "    </tr>\n",
       "    <tr>\n",
       "      <th>179</th>\n",
       "      <td>20.0</td>\n",
       "      <td>64</td>\n",
       "      <td>40</td>\n",
       "      <td>4</td>\n",
       "      <td>0</td>\n",
       "      <td>50.00</td>\n",
       "      <td>4</td>\n",
       "      <td>caught</td>\n",
       "      <td>3</td>\n",
       "      <td>v England</td>\n",
       "      <td>Birmingham</td>\n",
       "      <td>1 Jul 2022</td>\n",
       "      <td>Test # 2470</td>\n",
       "      <td>-0.498729</td>\n",
       "    </tr>\n",
       "  </tbody>\n",
       "</table>\n",
       "<p>173 rows × 14 columns</p>\n",
       "</div>"
      ],
      "text/plain": [
       "     Runs Mins   BF 4s 6s     SR Pos Dismissal Inns     Opposition  \\\n",
       "0     4.0   13   10  1  0  40.00   5    caught    1  v West Indies   \n",
       "1    15.0   72   54  2  0  27.77   5    caught    3  v West Indies   \n",
       "2     0.0    1    2  0  0   0.00   5    caught    1  v West Indies   \n",
       "3    27.0  118  107  1  1  25.23   5    caught    3  v West Indies   \n",
       "4    30.0   62   53  2  0  56.60   5    caught    2  v West Indies   \n",
       "..    ...  ...  ... .. ..    ...  ..       ...  ...            ...   \n",
       "175  45.0  106   76  5  0  59.21   4    bowled    1    v Sri Lanka   \n",
       "176  23.0   63   48  2  0  47.91   4       lbw    1    v Sri Lanka   \n",
       "177  13.0   27   16  1  0  81.25   4       lbw    3    v Sri Lanka   \n",
       "178  11.0   33   19  2  0  57.89   4    bowled    1      v England   \n",
       "179  20.0   64   40  4  0  50.00   4    caught    3      v England   \n",
       "\n",
       "         Ground   Start Date  Unnamed: 13   zscores  \n",
       "0      Kingston  20 Jun 2011  Test # 1997 -0.797923  \n",
       "1      Kingston  20 Jun 2011  Test # 1997 -0.592227  \n",
       "2    Bridgetown  28 Jun 2011  Test # 1998 -0.872721  \n",
       "3    Bridgetown  28 Jun 2011  Test # 1998 -0.367831  \n",
       "4        Roseau   6 Jul 2011  Test # 1999 -0.311732  \n",
       "..          ...          ...          ...       ...  \n",
       "175      Mohali   4 Mar 2022  Test # 2452 -0.031238  \n",
       "176   Bengaluru  12 Mar 2022  Test # 2456 -0.442630  \n",
       "177   Bengaluru  12 Mar 2022  Test # 2456 -0.629626  \n",
       "178  Birmingham   1 Jul 2022  Test # 2470 -0.667025  \n",
       "179  Birmingham   1 Jul 2022  Test # 2470 -0.498729  \n",
       "\n",
       "[173 rows x 14 columns]"
      ]
     },
     "execution_count": 188,
     "metadata": {},
     "output_type": "execute_result"
    }
   ],
   "source": [
    "Test"
   ]
  },
  {
   "cell_type": "code",
   "execution_count": 189,
   "id": "47609083",
   "metadata": {},
   "outputs": [
    {
     "data": {
      "text/plain": [
       "<AxesSubplot:xlabel='zscores', ylabel='Count'>"
      ]
     },
     "execution_count": 189,
     "metadata": {},
     "output_type": "execute_result"
    },
    {
     "data": {
      "image/png": "[encoded data removed]",
      "text/plain": [
       "<Figure size 432x288 with 1 Axes>"
      ]
     },
     "metadata": {
      "needs_background": "light"
     },
     "output_type": "display_data"
    }
   ],
   "source": [
    "sn.histplot(Test['zscores'],kde='True')"
   ]
  },
  {
   "cell_type": "code",
   "execution_count": 190,
   "id": "75ee52a8",
   "metadata": {},
   "outputs": [],
   "source": [
    "dismissal_keys = Test.Dismissal.value_counts().keys()\n",
    "dismissal_values = Test.Dismissal.value_counts().values"
   ]
  },
  {
   "cell_type": "code",
   "execution_count": 191,
   "id": "8b5061fe",
   "metadata": {},
   "outputs": [],
   "source": [
    "import matplotlib.pyplot as plt"
   ]
  },
  {
   "cell_type": "code",
   "execution_count": 192,
   "id": "4821718f",
   "metadata": {},
   "outputs": [
    {
     "data": {
      "text/plain": [
       "Text(0.5, 1.0, \"Virat kohli's dismissals in Test Cricket\")"
      ]
     },
     "execution_count": 192,
     "metadata": {},
     "output_type": "execute_result"
    },
    {
     "data": {
      "image/png": "[encoded data removed]",
      "text/plain": [
       "<Figure size 432x288 with 1 Axes>"
      ]
     },
     "metadata": {
      "needs_background": "light"
     },
     "output_type": "display_data"
    }
   ],
   "source": [
    "plt.bar(dismissal_keys,dismissal_values)\n",
    "plt.title(\"Virat kohli's dismissals in Test Cricket\")"
   ]
  },
  {
   "cell_type": "markdown",
   "id": "95d765ec",
   "metadata": {},
   "source": [
    "<h3>Virat kohli only got bowled 13 times in his entire Test Career</h3>"
   ]
  },
  {
   "cell_type": "code",
   "execution_count": 193,
   "id": "4fb9f7fe",
   "metadata": {},
   "outputs": [
    {
     "name": "stdout",
     "output_type": "stream",
     "text": [
      "<class 'pandas.core.frame.DataFrame'>\n",
      "Int64Index: 173 entries, 0 to 179\n",
      "Data columns (total 14 columns):\n",
      " #   Column       Non-Null Count  Dtype  \n",
      "---  ------       --------------  -----  \n",
      " 0   Runs         173 non-null    float64\n",
      " 1   Mins         173 non-null    object \n",
      " 2   BF           173 non-null    object \n",
      " 3   4s           173 non-null    object \n",
      " 4   6s           173 non-null    object \n",
      " 5   SR           173 non-null    object \n",
      " 6   Pos          173 non-null    object \n",
      " 7   Dismissal    173 non-null    object \n",
      " 8   Inns         173 non-null    object \n",
      " 9   Opposition   173 non-null    object \n",
      " 10  Ground       173 non-null    object \n",
      " 11  Start Date   173 non-null    object \n",
      " 12  Unnamed: 13  173 non-null    object \n",
      " 13  zscores      173 non-null    float64\n",
      "dtypes: float64(2), object(12)\n",
      "memory usage: 20.3+ KB\n"
     ]
    }
   ],
   "source": [
    "Test.info()"
   ]
  },
  {
   "cell_type": "markdown",
   "id": "cdea4599",
   "metadata": {},
   "source": [
    "<p>Replace dashes with -1</p>"
   ]
  },
  {
   "cell_type": "code",
   "execution_count": 293,
   "id": "f73c6232",
   "metadata": {},
   "outputs": [],
   "source": [
    "def removeDash(data):\n",
    "    if data == '-':\n",
    "        return -1\n",
    "    return int(data)\n",
    "    "
   ]
  },
  {
   "cell_type": "code",
   "execution_count": 294,
   "id": "40041037",
   "metadata": {},
   "outputs": [],
   "source": [
    "Test.Mins = Test.Mins.apply(removeDash)"
   ]
  },
  {
   "cell_type": "markdown",
   "id": "b14e52e0",
   "metadata": {},
   "source": [
    "<p>Replace -1 with Median value of Minutes column</p>"
   ]
  },
  {
   "cell_type": "code",
   "execution_count": 295,
   "id": "62cd04b7",
   "metadata": {},
   "outputs": [],
   "source": [
    "def fillMinswdMedian(data):\n",
    "    if data == -1:\n",
    "        return Test.Mins.quantile(0.5)\n",
    "    return int(data)"
   ]
  },
  {
   "cell_type": "code",
   "execution_count": 296,
   "id": "99434911",
   "metadata": {},
   "outputs": [],
   "source": [
    "Test.Mins = Test.Mins.apply(fillMinswdMedian)"
   ]
  },
  {
   "cell_type": "markdown",
   "id": "c3bb67c9",
   "metadata": {},
   "source": [
    "<h3>Let's change the data type of following columns</h3>"
   ]
  },
  {
   "cell_type": "code",
   "execution_count": 198,
   "id": "802f09b2",
   "metadata": {},
   "outputs": [],
   "source": [
    "Test.BF = Test.BF.astype('float64')"
   ]
  },
  {
   "cell_type": "code",
   "execution_count": 199,
   "id": "7d1c58f3",
   "metadata": {},
   "outputs": [],
   "source": [
    "Test.SR = Test.SR.astype('float64')"
   ]
  },
  {
   "cell_type": "code",
   "execution_count": 200,
   "id": "c9ba312c",
   "metadata": {},
   "outputs": [],
   "source": [
    "\n",
    "Test.Inns = Test.Inns.astype('float64')\n",
    "Test['4s'] = Test['4s'].astype('float64')\n",
    "Test['6s'] = Test['6s'].astype('float64')"
   ]
  },
  {
   "cell_type": "code",
   "execution_count": 201,
   "id": "d55180ba",
   "metadata": {},
   "outputs": [
    {
     "data": {
      "text/html": [
       "<div>\n",
       "<style scoped>\n",
       "    .dataframe tbody tr th:only-of-type {\n",
       "        vertical-align: middle;\n",
       "    }\n",
       "\n",
       "    .dataframe tbody tr th {\n",
       "        vertical-align: top;\n",
       "    }\n",
       "\n",
       "    .dataframe thead th {\n",
       "        text-align: right;\n",
       "    }\n",
       "</style>\n",
       "<table border=\"1\" class=\"dataframe\">\n",
       "  <thead>\n",
       "    <tr style=\"text-align: right;\">\n",
       "      <th></th>\n",
       "      <th>Runs</th>\n",
       "      <th>Mins</th>\n",
       "      <th>BF</th>\n",
       "      <th>4s</th>\n",
       "      <th>6s</th>\n",
       "      <th>SR</th>\n",
       "      <th>Pos</th>\n",
       "      <th>Dismissal</th>\n",
       "      <th>Inns</th>\n",
       "      <th>Opposition</th>\n",
       "      <th>Ground</th>\n",
       "      <th>Start Date</th>\n",
       "      <th>Unnamed: 13</th>\n",
       "      <th>zscores</th>\n",
       "    </tr>\n",
       "  </thead>\n",
       "  <tbody>\n",
       "    <tr>\n",
       "      <th>0</th>\n",
       "      <td>4.0</td>\n",
       "      <td>13.0</td>\n",
       "      <td>10.0</td>\n",
       "      <td>1.0</td>\n",
       "      <td>0.0</td>\n",
       "      <td>40.00</td>\n",
       "      <td>5</td>\n",
       "      <td>caught</td>\n",
       "      <td>1.0</td>\n",
       "      <td>v West Indies</td>\n",
       "      <td>Kingston</td>\n",
       "      <td>20 Jun 2011</td>\n",
       "      <td>Test # 1997</td>\n",
       "      <td>-0.797923</td>\n",
       "    </tr>\n",
       "    <tr>\n",
       "      <th>1</th>\n",
       "      <td>15.0</td>\n",
       "      <td>72.0</td>\n",
       "      <td>54.0</td>\n",
       "      <td>2.0</td>\n",
       "      <td>0.0</td>\n",
       "      <td>27.77</td>\n",
       "      <td>5</td>\n",
       "      <td>caught</td>\n",
       "      <td>3.0</td>\n",
       "      <td>v West Indies</td>\n",
       "      <td>Kingston</td>\n",
       "      <td>20 Jun 2011</td>\n",
       "      <td>Test # 1997</td>\n",
       "      <td>-0.592227</td>\n",
       "    </tr>\n",
       "    <tr>\n",
       "      <th>2</th>\n",
       "      <td>0.0</td>\n",
       "      <td>1.0</td>\n",
       "      <td>2.0</td>\n",
       "      <td>0.0</td>\n",
       "      <td>0.0</td>\n",
       "      <td>0.00</td>\n",
       "      <td>5</td>\n",
       "      <td>caught</td>\n",
       "      <td>1.0</td>\n",
       "      <td>v West Indies</td>\n",
       "      <td>Bridgetown</td>\n",
       "      <td>28 Jun 2011</td>\n",
       "      <td>Test # 1998</td>\n",
       "      <td>-0.872721</td>\n",
       "    </tr>\n",
       "    <tr>\n",
       "      <th>3</th>\n",
       "      <td>27.0</td>\n",
       "      <td>118.0</td>\n",
       "      <td>107.0</td>\n",
       "      <td>1.0</td>\n",
       "      <td>1.0</td>\n",
       "      <td>25.23</td>\n",
       "      <td>5</td>\n",
       "      <td>caught</td>\n",
       "      <td>3.0</td>\n",
       "      <td>v West Indies</td>\n",
       "      <td>Bridgetown</td>\n",
       "      <td>28 Jun 2011</td>\n",
       "      <td>Test # 1998</td>\n",
       "      <td>-0.367831</td>\n",
       "    </tr>\n",
       "    <tr>\n",
       "      <th>4</th>\n",
       "      <td>30.0</td>\n",
       "      <td>62.0</td>\n",
       "      <td>53.0</td>\n",
       "      <td>2.0</td>\n",
       "      <td>0.0</td>\n",
       "      <td>56.60</td>\n",
       "      <td>5</td>\n",
       "      <td>caught</td>\n",
       "      <td>2.0</td>\n",
       "      <td>v West Indies</td>\n",
       "      <td>Roseau</td>\n",
       "      <td>6 Jul 2011</td>\n",
       "      <td>Test # 1999</td>\n",
       "      <td>-0.311732</td>\n",
       "    </tr>\n",
       "    <tr>\n",
       "      <th>...</th>\n",
       "      <td>...</td>\n",
       "      <td>...</td>\n",
       "      <td>...</td>\n",
       "      <td>...</td>\n",
       "      <td>...</td>\n",
       "      <td>...</td>\n",
       "      <td>...</td>\n",
       "      <td>...</td>\n",
       "      <td>...</td>\n",
       "      <td>...</td>\n",
       "      <td>...</td>\n",
       "      <td>...</td>\n",
       "      <td>...</td>\n",
       "      <td>...</td>\n",
       "    </tr>\n",
       "    <tr>\n",
       "      <th>175</th>\n",
       "      <td>45.0</td>\n",
       "      <td>106.0</td>\n",
       "      <td>76.0</td>\n",
       "      <td>5.0</td>\n",
       "      <td>0.0</td>\n",
       "      <td>59.21</td>\n",
       "      <td>4</td>\n",
       "      <td>bowled</td>\n",
       "      <td>1.0</td>\n",
       "      <td>v Sri Lanka</td>\n",
       "      <td>Mohali</td>\n",
       "      <td>4 Mar 2022</td>\n",
       "      <td>Test # 2452</td>\n",
       "      <td>-0.031238</td>\n",
       "    </tr>\n",
       "    <tr>\n",
       "      <th>176</th>\n",
       "      <td>23.0</td>\n",
       "      <td>63.0</td>\n",
       "      <td>48.0</td>\n",
       "      <td>2.0</td>\n",
       "      <td>0.0</td>\n",
       "      <td>47.91</td>\n",
       "      <td>4</td>\n",
       "      <td>lbw</td>\n",
       "      <td>1.0</td>\n",
       "      <td>v Sri Lanka</td>\n",
       "      <td>Bengaluru</td>\n",
       "      <td>12 Mar 2022</td>\n",
       "      <td>Test # 2456</td>\n",
       "      <td>-0.442630</td>\n",
       "    </tr>\n",
       "    <tr>\n",
       "      <th>177</th>\n",
       "      <td>13.0</td>\n",
       "      <td>27.0</td>\n",
       "      <td>16.0</td>\n",
       "      <td>1.0</td>\n",
       "      <td>0.0</td>\n",
       "      <td>81.25</td>\n",
       "      <td>4</td>\n",
       "      <td>lbw</td>\n",
       "      <td>3.0</td>\n",
       "      <td>v Sri Lanka</td>\n",
       "      <td>Bengaluru</td>\n",
       "      <td>12 Mar 2022</td>\n",
       "      <td>Test # 2456</td>\n",
       "      <td>-0.629626</td>\n",
       "    </tr>\n",
       "    <tr>\n",
       "      <th>178</th>\n",
       "      <td>11.0</td>\n",
       "      <td>33.0</td>\n",
       "      <td>19.0</td>\n",
       "      <td>2.0</td>\n",
       "      <td>0.0</td>\n",
       "      <td>57.89</td>\n",
       "      <td>4</td>\n",
       "      <td>bowled</td>\n",
       "      <td>1.0</td>\n",
       "      <td>v England</td>\n",
       "      <td>Birmingham</td>\n",
       "      <td>1 Jul 2022</td>\n",
       "      <td>Test # 2470</td>\n",
       "      <td>-0.667025</td>\n",
       "    </tr>\n",
       "    <tr>\n",
       "      <th>179</th>\n",
       "      <td>20.0</td>\n",
       "      <td>64.0</td>\n",
       "      <td>40.0</td>\n",
       "      <td>4.0</td>\n",
       "      <td>0.0</td>\n",
       "      <td>50.00</td>\n",
       "      <td>4</td>\n",
       "      <td>caught</td>\n",
       "      <td>3.0</td>\n",
       "      <td>v England</td>\n",
       "      <td>Birmingham</td>\n",
       "      <td>1 Jul 2022</td>\n",
       "      <td>Test # 2470</td>\n",
       "      <td>-0.498729</td>\n",
       "    </tr>\n",
       "  </tbody>\n",
       "</table>\n",
       "<p>173 rows × 14 columns</p>\n",
       "</div>"
      ],
      "text/plain": [
       "     Runs   Mins     BF   4s   6s     SR Pos Dismissal  Inns     Opposition  \\\n",
       "0     4.0   13.0   10.0  1.0  0.0  40.00   5    caught   1.0  v West Indies   \n",
       "1    15.0   72.0   54.0  2.0  0.0  27.77   5    caught   3.0  v West Indies   \n",
       "2     0.0    1.0    2.0  0.0  0.0   0.00   5    caught   1.0  v West Indies   \n",
       "3    27.0  118.0  107.0  1.0  1.0  25.23   5    caught   3.0  v West Indies   \n",
       "4    30.0   62.0   53.0  2.0  0.0  56.60   5    caught   2.0  v West Indies   \n",
       "..    ...    ...    ...  ...  ...    ...  ..       ...   ...            ...   \n",
       "175  45.0  106.0   76.0  5.0  0.0  59.21   4    bowled   1.0    v Sri Lanka   \n",
       "176  23.0   63.0   48.0  2.0  0.0  47.91   4       lbw   1.0    v Sri Lanka   \n",
       "177  13.0   27.0   16.0  1.0  0.0  81.25   4       lbw   3.0    v Sri Lanka   \n",
       "178  11.0   33.0   19.0  2.0  0.0  57.89   4    bowled   1.0      v England   \n",
       "179  20.0   64.0   40.0  4.0  0.0  50.00   4    caught   3.0      v England   \n",
       "\n",
       "         Ground   Start Date  Unnamed: 13   zscores  \n",
       "0      Kingston  20 Jun 2011  Test # 1997 -0.797923  \n",
       "1      Kingston  20 Jun 2011  Test # 1997 -0.592227  \n",
       "2    Bridgetown  28 Jun 2011  Test # 1998 -0.872721  \n",
       "3    Bridgetown  28 Jun 2011  Test # 1998 -0.367831  \n",
       "4        Roseau   6 Jul 2011  Test # 1999 -0.311732  \n",
       "..          ...          ...          ...       ...  \n",
       "175      Mohali   4 Mar 2022  Test # 2452 -0.031238  \n",
       "176   Bengaluru  12 Mar 2022  Test # 2456 -0.442630  \n",
       "177   Bengaluru  12 Mar 2022  Test # 2456 -0.629626  \n",
       "178  Birmingham   1 Jul 2022  Test # 2470 -0.667025  \n",
       "179  Birmingham   1 Jul 2022  Test # 2470 -0.498729  \n",
       "\n",
       "[173 rows x 14 columns]"
      ]
     },
     "execution_count": 201,
     "metadata": {},
     "output_type": "execute_result"
    }
   ],
   "source": [
    "Test"
   ]
  },
  {
   "cell_type": "code",
   "execution_count": 202,
   "id": "fd1ac606",
   "metadata": {},
   "outputs": [],
   "source": [
    "Test.drop(['Unnamed: 13','Start Date'],axis='columns',inplace=True)"
   ]
  },
  {
   "cell_type": "code",
   "execution_count": 203,
   "id": "b5b53d95",
   "metadata": {},
   "outputs": [
    {
     "data": {
      "text/html": [
       "<div>\n",
       "<style scoped>\n",
       "    .dataframe tbody tr th:only-of-type {\n",
       "        vertical-align: middle;\n",
       "    }\n",
       "\n",
       "    .dataframe tbody tr th {\n",
       "        vertical-align: top;\n",
       "    }\n",
       "\n",
       "    .dataframe thead th {\n",
       "        text-align: right;\n",
       "    }\n",
       "</style>\n",
       "<table border=\"1\" class=\"dataframe\">\n",
       "  <thead>\n",
       "    <tr style=\"text-align: right;\">\n",
       "      <th></th>\n",
       "      <th>Runs</th>\n",
       "      <th>Mins</th>\n",
       "      <th>BF</th>\n",
       "      <th>4s</th>\n",
       "      <th>6s</th>\n",
       "      <th>SR</th>\n",
       "      <th>Pos</th>\n",
       "      <th>Dismissal</th>\n",
       "      <th>Inns</th>\n",
       "      <th>Opposition</th>\n",
       "      <th>Ground</th>\n",
       "      <th>zscores</th>\n",
       "    </tr>\n",
       "  </thead>\n",
       "  <tbody>\n",
       "    <tr>\n",
       "      <th>0</th>\n",
       "      <td>4.0</td>\n",
       "      <td>13.0</td>\n",
       "      <td>10.0</td>\n",
       "      <td>1.0</td>\n",
       "      <td>0.0</td>\n",
       "      <td>40.00</td>\n",
       "      <td>5</td>\n",
       "      <td>caught</td>\n",
       "      <td>1.0</td>\n",
       "      <td>v West Indies</td>\n",
       "      <td>Kingston</td>\n",
       "      <td>-0.797923</td>\n",
       "    </tr>\n",
       "    <tr>\n",
       "      <th>1</th>\n",
       "      <td>15.0</td>\n",
       "      <td>72.0</td>\n",
       "      <td>54.0</td>\n",
       "      <td>2.0</td>\n",
       "      <td>0.0</td>\n",
       "      <td>27.77</td>\n",
       "      <td>5</td>\n",
       "      <td>caught</td>\n",
       "      <td>3.0</td>\n",
       "      <td>v West Indies</td>\n",
       "      <td>Kingston</td>\n",
       "      <td>-0.592227</td>\n",
       "    </tr>\n",
       "    <tr>\n",
       "      <th>2</th>\n",
       "      <td>0.0</td>\n",
       "      <td>1.0</td>\n",
       "      <td>2.0</td>\n",
       "      <td>0.0</td>\n",
       "      <td>0.0</td>\n",
       "      <td>0.00</td>\n",
       "      <td>5</td>\n",
       "      <td>caught</td>\n",
       "      <td>1.0</td>\n",
       "      <td>v West Indies</td>\n",
       "      <td>Bridgetown</td>\n",
       "      <td>-0.872721</td>\n",
       "    </tr>\n",
       "    <tr>\n",
       "      <th>3</th>\n",
       "      <td>27.0</td>\n",
       "      <td>118.0</td>\n",
       "      <td>107.0</td>\n",
       "      <td>1.0</td>\n",
       "      <td>1.0</td>\n",
       "      <td>25.23</td>\n",
       "      <td>5</td>\n",
       "      <td>caught</td>\n",
       "      <td>3.0</td>\n",
       "      <td>v West Indies</td>\n",
       "      <td>Bridgetown</td>\n",
       "      <td>-0.367831</td>\n",
       "    </tr>\n",
       "    <tr>\n",
       "      <th>4</th>\n",
       "      <td>30.0</td>\n",
       "      <td>62.0</td>\n",
       "      <td>53.0</td>\n",
       "      <td>2.0</td>\n",
       "      <td>0.0</td>\n",
       "      <td>56.60</td>\n",
       "      <td>5</td>\n",
       "      <td>caught</td>\n",
       "      <td>2.0</td>\n",
       "      <td>v West Indies</td>\n",
       "      <td>Roseau</td>\n",
       "      <td>-0.311732</td>\n",
       "    </tr>\n",
       "    <tr>\n",
       "      <th>...</th>\n",
       "      <td>...</td>\n",
       "      <td>...</td>\n",
       "      <td>...</td>\n",
       "      <td>...</td>\n",
       "      <td>...</td>\n",
       "      <td>...</td>\n",
       "      <td>...</td>\n",
       "      <td>...</td>\n",
       "      <td>...</td>\n",
       "      <td>...</td>\n",
       "      <td>...</td>\n",
       "      <td>...</td>\n",
       "    </tr>\n",
       "    <tr>\n",
       "      <th>175</th>\n",
       "      <td>45.0</td>\n",
       "      <td>106.0</td>\n",
       "      <td>76.0</td>\n",
       "      <td>5.0</td>\n",
       "      <td>0.0</td>\n",
       "      <td>59.21</td>\n",
       "      <td>4</td>\n",
       "      <td>bowled</td>\n",
       "      <td>1.0</td>\n",
       "      <td>v Sri Lanka</td>\n",
       "      <td>Mohali</td>\n",
       "      <td>-0.031238</td>\n",
       "    </tr>\n",
       "    <tr>\n",
       "      <th>176</th>\n",
       "      <td>23.0</td>\n",
       "      <td>63.0</td>\n",
       "      <td>48.0</td>\n",
       "      <td>2.0</td>\n",
       "      <td>0.0</td>\n",
       "      <td>47.91</td>\n",
       "      <td>4</td>\n",
       "      <td>lbw</td>\n",
       "      <td>1.0</td>\n",
       "      <td>v Sri Lanka</td>\n",
       "      <td>Bengaluru</td>\n",
       "      <td>-0.442630</td>\n",
       "    </tr>\n",
       "    <tr>\n",
       "      <th>177</th>\n",
       "      <td>13.0</td>\n",
       "      <td>27.0</td>\n",
       "      <td>16.0</td>\n",
       "      <td>1.0</td>\n",
       "      <td>0.0</td>\n",
       "      <td>81.25</td>\n",
       "      <td>4</td>\n",
       "      <td>lbw</td>\n",
       "      <td>3.0</td>\n",
       "      <td>v Sri Lanka</td>\n",
       "      <td>Bengaluru</td>\n",
       "      <td>-0.629626</td>\n",
       "    </tr>\n",
       "    <tr>\n",
       "      <th>178</th>\n",
       "      <td>11.0</td>\n",
       "      <td>33.0</td>\n",
       "      <td>19.0</td>\n",
       "      <td>2.0</td>\n",
       "      <td>0.0</td>\n",
       "      <td>57.89</td>\n",
       "      <td>4</td>\n",
       "      <td>bowled</td>\n",
       "      <td>1.0</td>\n",
       "      <td>v England</td>\n",
       "      <td>Birmingham</td>\n",
       "      <td>-0.667025</td>\n",
       "    </tr>\n",
       "    <tr>\n",
       "      <th>179</th>\n",
       "      <td>20.0</td>\n",
       "      <td>64.0</td>\n",
       "      <td>40.0</td>\n",
       "      <td>4.0</td>\n",
       "      <td>0.0</td>\n",
       "      <td>50.00</td>\n",
       "      <td>4</td>\n",
       "      <td>caught</td>\n",
       "      <td>3.0</td>\n",
       "      <td>v England</td>\n",
       "      <td>Birmingham</td>\n",
       "      <td>-0.498729</td>\n",
       "    </tr>\n",
       "  </tbody>\n",
       "</table>\n",
       "<p>173 rows × 12 columns</p>\n",
       "</div>"
      ],
      "text/plain": [
       "     Runs   Mins     BF   4s   6s     SR Pos Dismissal  Inns     Opposition  \\\n",
       "0     4.0   13.0   10.0  1.0  0.0  40.00   5    caught   1.0  v West Indies   \n",
       "1    15.0   72.0   54.0  2.0  0.0  27.77   5    caught   3.0  v West Indies   \n",
       "2     0.0    1.0    2.0  0.0  0.0   0.00   5    caught   1.0  v West Indies   \n",
       "3    27.0  118.0  107.0  1.0  1.0  25.23   5    caught   3.0  v West Indies   \n",
       "4    30.0   62.0   53.0  2.0  0.0  56.60   5    caught   2.0  v West Indies   \n",
       "..    ...    ...    ...  ...  ...    ...  ..       ...   ...            ...   \n",
       "175  45.0  106.0   76.0  5.0  0.0  59.21   4    bowled   1.0    v Sri Lanka   \n",
       "176  23.0   63.0   48.0  2.0  0.0  47.91   4       lbw   1.0    v Sri Lanka   \n",
       "177  13.0   27.0   16.0  1.0  0.0  81.25   4       lbw   3.0    v Sri Lanka   \n",
       "178  11.0   33.0   19.0  2.0  0.0  57.89   4    bowled   1.0      v England   \n",
       "179  20.0   64.0   40.0  4.0  0.0  50.00   4    caught   3.0      v England   \n",
       "\n",
       "         Ground   zscores  \n",
       "0      Kingston -0.797923  \n",
       "1      Kingston -0.592227  \n",
       "2    Bridgetown -0.872721  \n",
       "3    Bridgetown -0.367831  \n",
       "4        Roseau -0.311732  \n",
       "..          ...       ...  \n",
       "175      Mohali -0.031238  \n",
       "176   Bengaluru -0.442630  \n",
       "177   Bengaluru -0.629626  \n",
       "178  Birmingham -0.667025  \n",
       "179  Birmingham -0.498729  \n",
       "\n",
       "[173 rows x 12 columns]"
      ]
     },
     "execution_count": 203,
     "metadata": {},
     "output_type": "execute_result"
    }
   ],
   "source": [
    "Test"
   ]
  },
  {
   "cell_type": "code",
   "execution_count": 204,
   "id": "5cd60e58",
   "metadata": {},
   "outputs": [
    {
     "data": {
      "text/plain": [
       "array(['Kingston', 'Bridgetown', 'Roseau', 'Wankhede', 'Melbourne',\n",
       "       'Sydney', 'Perth', 'Adelaide', 'Hyderabad (Deccan)', 'Bengaluru',\n",
       "       'Ahmedabad', 'Eden Gardens', 'Nagpur', 'Chennai', 'Mohali',\n",
       "       'Delhi', 'Johannesburg', 'Durban', 'Auckland', 'Wellington',\n",
       "       'Nottingham', \"Lord's\", 'Southampton', 'Manchester', 'The Oval',\n",
       "       'Brisbane', 'Fatullah', 'Galle', 'Colombo (PSS)', 'Colombo (SSC)',\n",
       "       'North Sound', 'Gros Islet', 'Kanpur', 'Indore', 'Rajkot',\n",
       "       'Visakhapatnam', 'Pune', 'Ranchi', 'Pallekele', 'Cape Town',\n",
       "       'Centurion', 'Birmingham', 'Christchurch', 'Leeds'], dtype=object)"
      ]
     },
     "execution_count": 204,
     "metadata": {},
     "output_type": "execute_result"
    }
   ],
   "source": [
    "Test.Ground.unique()"
   ]
  },
  {
   "cell_type": "code",
   "execution_count": 205,
   "id": "b3476f6b",
   "metadata": {},
   "outputs": [],
   "source": [
    "home_grounds = ['Bengaluru','Delhi','Mohali','Wankhede','Hyderabad (Deccan)', 'Bengaluru',\n",
    "       'Ahmedabad', 'Kolkata', 'Nagpur', 'Chennai','Kanpur', 'Indore', 'Rajkot',\n",
    "       'Visakhapatnam', 'Pune', 'Ranchi','Eden Gardens']\n",
    "\n",
    "def is_not_home(data):\n",
    "    if data in home_grounds:\n",
    "        return 'Home'\n",
    "    return 'Away'\n",
    "    "
   ]
  },
  {
   "cell_type": "code",
   "execution_count": 206,
   "id": "f36d0867",
   "metadata": {},
   "outputs": [],
   "source": [
    "Test['Away_Match'] = Test.Ground.apply(is_not_home)"
   ]
  },
  {
   "cell_type": "markdown",
   "id": "f48b2372",
   "metadata": {},
   "source": [
    "<h2>Final working Dataset</h2>"
   ]
  },
  {
   "cell_type": "code",
   "execution_count": 207,
   "id": "bfe7e7d0",
   "metadata": {},
   "outputs": [
    {
     "data": {
      "text/html": [
       "<div>\n",
       "<style scoped>\n",
       "    .dataframe tbody tr th:only-of-type {\n",
       "        vertical-align: middle;\n",
       "    }\n",
       "\n",
       "    .dataframe tbody tr th {\n",
       "        vertical-align: top;\n",
       "    }\n",
       "\n",
       "    .dataframe thead th {\n",
       "        text-align: right;\n",
       "    }\n",
       "</style>\n",
       "<table border=\"1\" class=\"dataframe\">\n",
       "  <thead>\n",
       "    <tr style=\"text-align: right;\">\n",
       "      <th></th>\n",
       "      <th>Runs</th>\n",
       "      <th>Mins</th>\n",
       "      <th>BF</th>\n",
       "      <th>4s</th>\n",
       "      <th>6s</th>\n",
       "      <th>SR</th>\n",
       "      <th>Pos</th>\n",
       "      <th>Dismissal</th>\n",
       "      <th>Inns</th>\n",
       "      <th>Opposition</th>\n",
       "      <th>Ground</th>\n",
       "      <th>zscores</th>\n",
       "      <th>Away_Match</th>\n",
       "    </tr>\n",
       "  </thead>\n",
       "  <tbody>\n",
       "    <tr>\n",
       "      <th>0</th>\n",
       "      <td>4.0</td>\n",
       "      <td>13.0</td>\n",
       "      <td>10.0</td>\n",
       "      <td>1.0</td>\n",
       "      <td>0.0</td>\n",
       "      <td>40.00</td>\n",
       "      <td>5</td>\n",
       "      <td>caught</td>\n",
       "      <td>1.0</td>\n",
       "      <td>v West Indies</td>\n",
       "      <td>Kingston</td>\n",
       "      <td>-0.797923</td>\n",
       "      <td>Away</td>\n",
       "    </tr>\n",
       "    <tr>\n",
       "      <th>1</th>\n",
       "      <td>15.0</td>\n",
       "      <td>72.0</td>\n",
       "      <td>54.0</td>\n",
       "      <td>2.0</td>\n",
       "      <td>0.0</td>\n",
       "      <td>27.77</td>\n",
       "      <td>5</td>\n",
       "      <td>caught</td>\n",
       "      <td>3.0</td>\n",
       "      <td>v West Indies</td>\n",
       "      <td>Kingston</td>\n",
       "      <td>-0.592227</td>\n",
       "      <td>Away</td>\n",
       "    </tr>\n",
       "    <tr>\n",
       "      <th>2</th>\n",
       "      <td>0.0</td>\n",
       "      <td>1.0</td>\n",
       "      <td>2.0</td>\n",
       "      <td>0.0</td>\n",
       "      <td>0.0</td>\n",
       "      <td>0.00</td>\n",
       "      <td>5</td>\n",
       "      <td>caught</td>\n",
       "      <td>1.0</td>\n",
       "      <td>v West Indies</td>\n",
       "      <td>Bridgetown</td>\n",
       "      <td>-0.872721</td>\n",
       "      <td>Away</td>\n",
       "    </tr>\n",
       "    <tr>\n",
       "      <th>3</th>\n",
       "      <td>27.0</td>\n",
       "      <td>118.0</td>\n",
       "      <td>107.0</td>\n",
       "      <td>1.0</td>\n",
       "      <td>1.0</td>\n",
       "      <td>25.23</td>\n",
       "      <td>5</td>\n",
       "      <td>caught</td>\n",
       "      <td>3.0</td>\n",
       "      <td>v West Indies</td>\n",
       "      <td>Bridgetown</td>\n",
       "      <td>-0.367831</td>\n",
       "      <td>Away</td>\n",
       "    </tr>\n",
       "    <tr>\n",
       "      <th>4</th>\n",
       "      <td>30.0</td>\n",
       "      <td>62.0</td>\n",
       "      <td>53.0</td>\n",
       "      <td>2.0</td>\n",
       "      <td>0.0</td>\n",
       "      <td>56.60</td>\n",
       "      <td>5</td>\n",
       "      <td>caught</td>\n",
       "      <td>2.0</td>\n",
       "      <td>v West Indies</td>\n",
       "      <td>Roseau</td>\n",
       "      <td>-0.311732</td>\n",
       "      <td>Away</td>\n",
       "    </tr>\n",
       "    <tr>\n",
       "      <th>...</th>\n",
       "      <td>...</td>\n",
       "      <td>...</td>\n",
       "      <td>...</td>\n",
       "      <td>...</td>\n",
       "      <td>...</td>\n",
       "      <td>...</td>\n",
       "      <td>...</td>\n",
       "      <td>...</td>\n",
       "      <td>...</td>\n",
       "      <td>...</td>\n",
       "      <td>...</td>\n",
       "      <td>...</td>\n",
       "      <td>...</td>\n",
       "    </tr>\n",
       "    <tr>\n",
       "      <th>175</th>\n",
       "      <td>45.0</td>\n",
       "      <td>106.0</td>\n",
       "      <td>76.0</td>\n",
       "      <td>5.0</td>\n",
       "      <td>0.0</td>\n",
       "      <td>59.21</td>\n",
       "      <td>4</td>\n",
       "      <td>bowled</td>\n",
       "      <td>1.0</td>\n",
       "      <td>v Sri Lanka</td>\n",
       "      <td>Mohali</td>\n",
       "      <td>-0.031238</td>\n",
       "      <td>Home</td>\n",
       "    </tr>\n",
       "    <tr>\n",
       "      <th>176</th>\n",
       "      <td>23.0</td>\n",
       "      <td>63.0</td>\n",
       "      <td>48.0</td>\n",
       "      <td>2.0</td>\n",
       "      <td>0.0</td>\n",
       "      <td>47.91</td>\n",
       "      <td>4</td>\n",
       "      <td>lbw</td>\n",
       "      <td>1.0</td>\n",
       "      <td>v Sri Lanka</td>\n",
       "      <td>Bengaluru</td>\n",
       "      <td>-0.442630</td>\n",
       "      <td>Home</td>\n",
       "    </tr>\n",
       "    <tr>\n",
       "      <th>177</th>\n",
       "      <td>13.0</td>\n",
       "      <td>27.0</td>\n",
       "      <td>16.0</td>\n",
       "      <td>1.0</td>\n",
       "      <td>0.0</td>\n",
       "      <td>81.25</td>\n",
       "      <td>4</td>\n",
       "      <td>lbw</td>\n",
       "      <td>3.0</td>\n",
       "      <td>v Sri Lanka</td>\n",
       "      <td>Bengaluru</td>\n",
       "      <td>-0.629626</td>\n",
       "      <td>Home</td>\n",
       "    </tr>\n",
       "    <tr>\n",
       "      <th>178</th>\n",
       "      <td>11.0</td>\n",
       "      <td>33.0</td>\n",
       "      <td>19.0</td>\n",
       "      <td>2.0</td>\n",
       "      <td>0.0</td>\n",
       "      <td>57.89</td>\n",
       "      <td>4</td>\n",
       "      <td>bowled</td>\n",
       "      <td>1.0</td>\n",
       "      <td>v England</td>\n",
       "      <td>Birmingham</td>\n",
       "      <td>-0.667025</td>\n",
       "      <td>Away</td>\n",
       "    </tr>\n",
       "    <tr>\n",
       "      <th>179</th>\n",
       "      <td>20.0</td>\n",
       "      <td>64.0</td>\n",
       "      <td>40.0</td>\n",
       "      <td>4.0</td>\n",
       "      <td>0.0</td>\n",
       "      <td>50.00</td>\n",
       "      <td>4</td>\n",
       "      <td>caught</td>\n",
       "      <td>3.0</td>\n",
       "      <td>v England</td>\n",
       "      <td>Birmingham</td>\n",
       "      <td>-0.498729</td>\n",
       "      <td>Away</td>\n",
       "    </tr>\n",
       "  </tbody>\n",
       "</table>\n",
       "<p>173 rows × 13 columns</p>\n",
       "</div>"
      ],
      "text/plain": [
       "     Runs   Mins     BF   4s   6s     SR Pos Dismissal  Inns     Opposition  \\\n",
       "0     4.0   13.0   10.0  1.0  0.0  40.00   5    caught   1.0  v West Indies   \n",
       "1    15.0   72.0   54.0  2.0  0.0  27.77   5    caught   3.0  v West Indies   \n",
       "2     0.0    1.0    2.0  0.0  0.0   0.00   5    caught   1.0  v West Indies   \n",
       "3    27.0  118.0  107.0  1.0  1.0  25.23   5    caught   3.0  v West Indies   \n",
       "4    30.0   62.0   53.0  2.0  0.0  56.60   5    caught   2.0  v West Indies   \n",
       "..    ...    ...    ...  ...  ...    ...  ..       ...   ...            ...   \n",
       "175  45.0  106.0   76.0  5.0  0.0  59.21   4    bowled   1.0    v Sri Lanka   \n",
       "176  23.0   63.0   48.0  2.0  0.0  47.91   4       lbw   1.0    v Sri Lanka   \n",
       "177  13.0   27.0   16.0  1.0  0.0  81.25   4       lbw   3.0    v Sri Lanka   \n",
       "178  11.0   33.0   19.0  2.0  0.0  57.89   4    bowled   1.0      v England   \n",
       "179  20.0   64.0   40.0  4.0  0.0  50.00   4    caught   3.0      v England   \n",
       "\n",
       "         Ground   zscores Away_Match  \n",
       "0      Kingston -0.797923       Away  \n",
       "1      Kingston -0.592227       Away  \n",
       "2    Bridgetown -0.872721       Away  \n",
       "3    Bridgetown -0.367831       Away  \n",
       "4        Roseau -0.311732       Away  \n",
       "..          ...       ...        ...  \n",
       "175      Mohali -0.031238       Home  \n",
       "176   Bengaluru -0.442630       Home  \n",
       "177   Bengaluru -0.629626       Home  \n",
       "178  Birmingham -0.667025       Away  \n",
       "179  Birmingham -0.498729       Away  \n",
       "\n",
       "[173 rows x 13 columns]"
      ]
     },
     "execution_count": 207,
     "metadata": {},
     "output_type": "execute_result"
    }
   ],
   "source": [
    "Test"
   ]
  },
  {
   "cell_type": "markdown",
   "id": "4e8451f5",
   "metadata": {},
   "source": [
    "<h2>In which Inning he has scored most runs?</h2>"
   ]
  },
  {
   "cell_type": "code",
   "execution_count": 208,
   "id": "cb2afb55",
   "metadata": {},
   "outputs": [
    {
     "data": {
      "text/plain": [
       "<AxesSubplot:xlabel='Inns', ylabel='Runs'>"
      ]
     },
     "execution_count": 208,
     "metadata": {},
     "output_type": "execute_result"
    },
    {
     "data": {
      "image/png": "[encoded data removed]",
      "text/plain": [
       "<Figure size 432x288 with 1 Axes>"
      ]
     },
     "metadata": {
      "needs_background": "light"
     },
     "output_type": "display_data"
    }
   ],
   "source": [
    "sn.barplot(x='Inns',y='Runs',data=Test,estimator=np.sum)"
   ]
  },
  {
   "cell_type": "markdown",
   "id": "1b79fb99",
   "metadata": {},
   "source": [
    "<h2>On which Indian ground Virat has scored most test runs?</h2>"
   ]
  },
  {
   "cell_type": "code",
   "execution_count": 209,
   "id": "36a56fae",
   "metadata": {},
   "outputs": [
    {
     "data": {
      "text/plain": [
       "<AxesSubplot:title={'center':'No. of Innings played on Indian Ground'}, xlabel='Inns', ylabel='Ground'>"
      ]
     },
     "execution_count": 209,
     "metadata": {},
     "output_type": "execute_result"
    },
    {
     "data": {
      "image/png": "[encoded data removed]",
      "text/plain": [
       "<Figure size 1440x720 with 4 Axes>"
      ]
     },
     "metadata": {
      "needs_background": "light"
     },
     "output_type": "display_data"
    }
   ],
   "source": [
    "fig, axes = plt.subplots(2, 2,figsize=(20,10))\n",
    "runs_indian_grounds = Test.loc[Test['Away_Match'] == 'Home']\n",
    "fig.suptitle(\"Virat's record on Indian Grounds\")\n",
    "axes[0,0].set_title('Most Runs')\n",
    "axes[0,1].set_title('Averages on Indian Grounds')\n",
    "axes[1,0].set_title('No. of Innings played on Indian Ground')\n",
    "sn.barplot(x='Runs',y='Ground',data=runs_indian_grounds,estimator=np.sum,orient = 'h',ax=axes[0,0])\n",
    "sn.barplot(x='Runs',y='Ground',data=runs_indian_grounds,estimator=np.mean,orient = 'h',ax=axes[0,1])\n",
    "sn.barplot(x='Inns',y='Ground',data=runs_indian_grounds,estimator=np.sum,orient='h',ax=axes[1,0])"
   ]
  },
  {
   "cell_type": "markdown",
   "id": "b4a9e5b1",
   "metadata": {},
   "source": [
    "<p>Ahmedabad, Ranchi, Kanpur are some grounds, Virat doesn't have much impact</p>"
   ]
  },
  {
   "cell_type": "markdown",
   "id": "9fedec62",
   "metadata": {},
   "source": [
    "<h3>At what position Virat has highest Average at home</h3>"
   ]
  },
  {
   "cell_type": "code",
   "execution_count": 210,
   "id": "9cd622fa",
   "metadata": {},
   "outputs": [
    {
     "data": {
      "text/plain": [
       "<AxesSubplot:title={'center':'Averages at each position'}, xlabel='Pos', ylabel='Runs'>"
      ]
     },
     "execution_count": 210,
     "metadata": {},
     "output_type": "execute_result"
    },
    {
     "data": {
      "image/png": "[encoded data removed]",
      "text/plain": [
       "<Figure size 432x288 with 1 Axes>"
      ]
     },
     "metadata": {
      "needs_background": "light"
     },
     "output_type": "display_data"
    }
   ],
   "source": [
    "plt.title('Averages at each position')\n",
    "\n",
    "sn.barplot(x='Pos',y='Runs',data=runs_indian_grounds,estimator=np.mean)"
   ]
  },
  {
   "cell_type": "markdown",
   "id": "add2b118",
   "metadata": {},
   "source": [
    "<p><b>Pretty consitent at 4, 5, 6 Position</b></p>"
   ]
  },
  {
   "cell_type": "markdown",
   "id": "171f59db",
   "metadata": {},
   "source": [
    "<h3>Record on Foreign soil</h3>"
   ]
  },
  {
   "cell_type": "code",
   "execution_count": 211,
   "id": "aba8ea93",
   "metadata": {},
   "outputs": [
    {
     "data": {
      "text/plain": [
       "<AxesSubplot:title={'center':'No. of Innings played on Foreign Ground'}, xlabel='Inns', ylabel='Ground'>"
      ]
     },
     "execution_count": 211,
     "metadata": {},
     "output_type": "execute_result"
    },
    {
     "data": {
      "image/png": "[encoded data removed]",
      "text/plain": [
       "<Figure size 1440x1440 with 4 Axes>"
      ]
     },
     "metadata": {
      "needs_background": "light"
     },
     "output_type": "display_data"
    }
   ],
   "source": [
    "fig, axes = plt.subplots(2, 2,figsize=(20,20))\n",
    "runs_foreign_grounds = Test.loc[Test['Away_Match'] == 'Away']\n",
    "fig.suptitle(\"Virat's record on foreign soil\")\n",
    "axes[0,0].set_title('Most Runs')\n",
    "axes[0,1].set_title('Averages on Foreign Grounds')\n",
    "axes[1,0].set_title('No. of Innings played on Foreign Ground')\n",
    "sn.barplot(x='Runs',y='Ground',data=runs_foreign_grounds,estimator=np.sum,orient = 'h',ax=axes[0,0])\n",
    "sn.barplot(x='Runs',y='Ground',data=runs_foreign_grounds,estimator=np.mean,orient = 'h',ax=axes[0,1])\n",
    "sn.barplot(x='Inns',y='Ground',data=runs_foreign_grounds,estimator=np.sum,orient='h',ax=axes[1,0])"
   ]
  },
  {
   "cell_type": "markdown",
   "id": "09ad339a",
   "metadata": {},
   "source": [
    "<h3>Ducks of Virat Kohli</h3>"
   ]
  },
  {
   "cell_type": "code",
   "execution_count": 212,
   "id": "61b72575",
   "metadata": {},
   "outputs": [
    {
     "data": {
      "text/plain": [
       "v England        6\n",
       "v Australia      3\n",
       "v West Indies    2\n",
       "v Sri Lanka      1\n",
       "v Bangladesh     1\n",
       "v New Zealand    1\n",
       "Name: Opposition, dtype: int64"
      ]
     },
     "execution_count": 212,
     "metadata": {},
     "output_type": "execute_result"
    }
   ],
   "source": [
    "Test.loc[Test['Runs'] == 0].Opposition.value_counts()"
   ]
  },
  {
   "cell_type": "markdown",
   "id": "e946fefd",
   "metadata": {},
   "source": [
    "<b>At Home</b>"
   ]
  },
  {
   "cell_type": "code",
   "execution_count": 213,
   "id": "474f516f",
   "metadata": {},
   "outputs": [
    {
     "data": {
      "text/plain": [
       "v England        2\n",
       "v Australia      1\n",
       "v Sri Lanka      1\n",
       "v Bangladesh     1\n",
       "v New Zealand    1\n",
       "Name: Opposition, dtype: int64"
      ]
     },
     "execution_count": 213,
     "metadata": {},
     "output_type": "execute_result"
    }
   ],
   "source": [
    "Test.loc[(Test['Runs'] == 0) & (Test['Away_Match'] == 'Home')].Opposition.value_counts()"
   ]
  },
  {
   "cell_type": "markdown",
   "id": "ba11b4fd",
   "metadata": {},
   "source": [
    "<b>At Away</b>"
   ]
  },
  {
   "cell_type": "code",
   "execution_count": 214,
   "id": "31c0afe7",
   "metadata": {},
   "outputs": [
    {
     "data": {
      "text/plain": [
       "v England        4\n",
       "v West Indies    2\n",
       "v Australia      2\n",
       "Name: Opposition, dtype: int64"
      ]
     },
     "execution_count": 214,
     "metadata": {},
     "output_type": "execute_result"
    }
   ],
   "source": [
    "Test.loc[(Test['Runs'] == 0) & (Test['Away_Match'] == 'Away')].Opposition.value_counts()"
   ]
  },
  {
   "cell_type": "markdown",
   "id": "3aba5eb1",
   "metadata": {},
   "source": [
    "<b>On Particular Ground</b>"
   ]
  },
  {
   "cell_type": "code",
   "execution_count": 215,
   "id": "375f88d7",
   "metadata": {},
   "outputs": [
    {
     "name": "stdout",
     "output_type": "stream",
     "text": [
      "Melbourne       2\n",
      "Bridgetown      1\n",
      "Lord's          1\n",
      "Manchester      1\n",
      "Pune            1\n",
      "Eden Gardens    1\n",
      "The Oval        1\n",
      "Kingston        1\n",
      "Indore          1\n",
      "Chennai         1\n",
      "Ahmedabad       1\n",
      "Nottingham      1\n",
      "Wankhede        1\n",
      "Name: Ground, dtype: int64\n"
     ]
    }
   ],
   "source": [
    "duck_on_grd = Test.loc[(Test['Runs'] == 0)].Ground.value_counts()\n",
    "print(duck_on_grd)"
   ]
  },
  {
   "cell_type": "markdown",
   "id": "5f775eaa",
   "metadata": {},
   "source": [
    "<h2>Half Centuries</h2>"
   ]
  },
  {
   "cell_type": "code",
   "execution_count": 216,
   "id": "cfffcebe",
   "metadata": {},
   "outputs": [
    {
     "data": {
      "text/plain": [
       "v England         9\n",
       "v West Indies     5\n",
       "v Australia       5\n",
       "v South Africa    4\n",
       "v New Zealand     3\n",
       "v Sri Lanka       2\n",
       "Name: Opposition, dtype: int64"
      ]
     },
     "execution_count": 216,
     "metadata": {},
     "output_type": "execute_result"
    }
   ],
   "source": [
    "Test.loc[(Test['Runs'] >= 50) & ((Test['Runs'] < 100))].Opposition.value_counts()"
   ]
  },
  {
   "cell_type": "markdown",
   "id": "6cdd9600",
   "metadata": {},
   "source": [
    "<b>At Home</b>"
   ]
  },
  {
   "cell_type": "code",
   "execution_count": 217,
   "id": "52554499",
   "metadata": {},
   "outputs": [
    {
     "data": {
      "text/plain": [
       "v England         4\n",
       "v West Indies     3\n",
       "v New Zealand     2\n",
       "v Australia       1\n",
       "v South Africa    1\n",
       "v Sri Lanka       1\n",
       "Name: Opposition, dtype: int64"
      ]
     },
     "execution_count": 217,
     "metadata": {},
     "output_type": "execute_result"
    }
   ],
   "source": [
    "Test.loc[(Test['Runs'] >= 50) & ((Test['Runs'] < 100)) & (Test['Away_Match'] == 'Home')].Opposition.value_counts()"
   ]
  },
  {
   "cell_type": "markdown",
   "id": "c4b2f9e1",
   "metadata": {},
   "source": [
    "<b>At Away</b>"
   ]
  },
  {
   "cell_type": "code",
   "execution_count": 218,
   "id": "9664152f",
   "metadata": {},
   "outputs": [
    {
     "data": {
      "text/plain": [
       "v England         5\n",
       "v Australia       4\n",
       "v South Africa    3\n",
       "v West Indies     2\n",
       "v New Zealand     1\n",
       "v Sri Lanka       1\n",
       "Name: Opposition, dtype: int64"
      ]
     },
     "execution_count": 218,
     "metadata": {},
     "output_type": "execute_result"
    }
   ],
   "source": [
    "Test.loc[(Test['Runs'] >= 50) & (Test['Runs'] < 100) & (Test['Away_Match'] == 'Away')].Opposition.value_counts()"
   ]
  },
  {
   "cell_type": "markdown",
   "id": "411e4214",
   "metadata": {},
   "source": [
    "<b>On Particular Ground</b>"
   ]
  },
  {
   "cell_type": "code",
   "execution_count": 219,
   "id": "b29c504c",
   "metadata": {},
   "outputs": [
    {
     "name": "stdout",
     "output_type": "stream",
     "text": [
      "Wankhede              3\n",
      "Mohali                2\n",
      "Johannesburg          2\n",
      "Chennai               2\n",
      "Melbourne             2\n",
      "Delhi                 2\n",
      "Southampton           1\n",
      "The Oval              1\n",
      "Leeds                 1\n",
      "Adelaide              1\n",
      "Kingston              1\n",
      "North Sound           1\n",
      "Visakhapatnam         1\n",
      "Nottingham            1\n",
      "Birmingham            1\n",
      "Perth                 1\n",
      "Colombo (PSS)         1\n",
      "Auckland              1\n",
      "Bengaluru             1\n",
      "Hyderabad (Deccan)    1\n",
      "Cape Town             1\n",
      "Name: Ground, dtype: int64\n"
     ]
    }
   ],
   "source": [
    "fifties_on_grd = Test.loc[(Test['Runs'] >= 50) & (Test['Runs'] < 100) ].Ground.value_counts()\n",
    "print(fifties_on_grd)"
   ]
  },
  {
   "cell_type": "markdown",
   "id": "5e55ddba",
   "metadata": {},
   "source": [
    "<h2>Centuries</h2>"
   ]
  },
  {
   "cell_type": "code",
   "execution_count": 220,
   "id": "f54caea1",
   "metadata": {},
   "outputs": [
    {
     "name": "stdout",
     "output_type": "stream",
     "text": [
      "v Australia       7\n",
      "v England         5\n",
      "v Sri Lanka       5\n",
      "v New Zealand     3\n",
      "v South Africa    3\n",
      "v West Indies     2\n",
      "v Bangladesh      2\n",
      "Name: Opposition, dtype: int64\n"
     ]
    }
   ],
   "source": [
    "print(Test.loc[Test['Runs'] >= 100].Opposition.value_counts())"
   ]
  },
  {
   "cell_type": "markdown",
   "id": "81e3486c",
   "metadata": {},
   "source": [
    "<b>At Home</b>"
   ]
  },
  {
   "cell_type": "code",
   "execution_count": 221,
   "id": "d3d26a06",
   "metadata": {},
   "outputs": [
    {
     "data": {
      "text/plain": [
       "v England         3\n",
       "v Sri Lanka       3\n",
       "v New Zealand     2\n",
       "v Bangladesh      2\n",
       "v Australia       1\n",
       "v West Indies     1\n",
       "v South Africa    1\n",
       "Name: Opposition, dtype: int64"
      ]
     },
     "execution_count": 221,
     "metadata": {},
     "output_type": "execute_result"
    }
   ],
   "source": [
    "Test.loc[(Test['Runs'] >= 100) & (Test['Away_Match'] == 'Home')].Opposition.value_counts()"
   ]
  },
  {
   "cell_type": "markdown",
   "id": "8e234e9c",
   "metadata": {},
   "source": [
    "<b>At Away</b>"
   ]
  },
  {
   "cell_type": "code",
   "execution_count": 222,
   "id": "fa88729c",
   "metadata": {},
   "outputs": [
    {
     "data": {
      "text/plain": [
       "v Australia       6\n",
       "v South Africa    2\n",
       "v Sri Lanka       2\n",
       "v England         2\n",
       "v New Zealand     1\n",
       "v West Indies     1\n",
       "Name: Opposition, dtype: int64"
      ]
     },
     "execution_count": 222,
     "metadata": {},
     "output_type": "execute_result"
    }
   ],
   "source": [
    "Test.loc[(Test['Runs'] >= 100) & (Test['Away_Match'] == 'Away')].Opposition.value_counts()"
   ]
  },
  {
   "cell_type": "markdown",
   "id": "2f9083ac",
   "metadata": {},
   "source": [
    "<b>On Particular Ground</b>"
   ]
  },
  {
   "cell_type": "code",
   "execution_count": 223,
   "id": "e1a767a9",
   "metadata": {},
   "outputs": [
    {
     "name": "stdout",
     "output_type": "stream",
     "text": [
      "Adelaide              3\n",
      "Nagpur                2\n",
      "Galle                 2\n",
      "Eden Gardens          2\n",
      "Wankhede              1\n",
      "Perth                 1\n",
      "Rajkot                1\n",
      "Nottingham            1\n",
      "Birmingham            1\n",
      "Centurion             1\n",
      "Delhi                 1\n",
      "Hyderabad (Deccan)    1\n",
      "Visakhapatnam         1\n",
      "Bengaluru             1\n",
      "Indore                1\n",
      "North Sound           1\n",
      "Sydney                1\n",
      "Melbourne             1\n",
      "Wellington            1\n",
      "Johannesburg          1\n",
      "Chennai               1\n",
      "Pune                  1\n",
      "Name: Ground, dtype: int64\n"
     ]
    }
   ],
   "source": [
    "century_on_grd = Test.loc[Test['Runs'] >= 100].Ground.value_counts()\n",
    "print(century_on_grd)"
   ]
  },
  {
   "cell_type": "markdown",
   "id": "1b5d0053",
   "metadata": {},
   "source": [
    "<h3>Computing probability of Virat hitting Century against each opponent</h3>"
   ]
  },
  {
   "cell_type": "code",
   "execution_count": 261,
   "id": "dbcfc7ee",
   "metadata": {},
   "outputs": [],
   "source": [
    "def prob_of_century_vs_countries(opponents):\n",
    "    probs = []\n",
    "    for opponent in opponents:\n",
    "        Num_century_against = Test.loc[(Test['Runs'] >= 100) & (Test['Opposition'] == opponent)]\n",
    "        Total_Innings = Test.loc[(Test['Opposition'] == opponent)]\n",
    "        probs.append(len(Num_century_against)/len(Total_Innings))\n",
    "    return probs"
   ]
  },
  {
   "cell_type": "code",
   "execution_count": 262,
   "id": "15369fa0",
   "metadata": {},
   "outputs": [
    {
     "data": {
      "text/html": [
       "<div>\n",
       "<style scoped>\n",
       "    .dataframe tbody tr th:only-of-type {\n",
       "        vertical-align: middle;\n",
       "    }\n",
       "\n",
       "    .dataframe tbody tr th {\n",
       "        vertical-align: top;\n",
       "    }\n",
       "\n",
       "    .dataframe thead th {\n",
       "        text-align: right;\n",
       "    }\n",
       "</style>\n",
       "<table border=\"1\" class=\"dataframe\">\n",
       "  <thead>\n",
       "    <tr style=\"text-align: right;\">\n",
       "      <th></th>\n",
       "      <th>Opponent</th>\n",
       "      <th>Probs</th>\n",
       "    </tr>\n",
       "  </thead>\n",
       "  <tbody>\n",
       "    <tr>\n",
       "      <th>0</th>\n",
       "      <td>v West Indies</td>\n",
       "      <td>0.105263</td>\n",
       "    </tr>\n",
       "    <tr>\n",
       "      <th>1</th>\n",
       "      <td>v Australia</td>\n",
       "      <td>0.194444</td>\n",
       "    </tr>\n",
       "    <tr>\n",
       "      <th>2</th>\n",
       "      <td>v New Zealand</td>\n",
       "      <td>0.142857</td>\n",
       "    </tr>\n",
       "    <tr>\n",
       "      <th>3</th>\n",
       "      <td>v England</td>\n",
       "      <td>0.100000</td>\n",
       "    </tr>\n",
       "    <tr>\n",
       "      <th>4</th>\n",
       "      <td>v South Africa</td>\n",
       "      <td>0.125000</td>\n",
       "    </tr>\n",
       "    <tr>\n",
       "      <th>5</th>\n",
       "      <td>v Bangladesh</td>\n",
       "      <td>0.400000</td>\n",
       "    </tr>\n",
       "    <tr>\n",
       "      <th>6</th>\n",
       "      <td>v Sri Lanka</td>\n",
       "      <td>0.277778</td>\n",
       "    </tr>\n",
       "  </tbody>\n",
       "</table>\n",
       "</div>"
      ],
      "text/plain": [
       "         Opponent     Probs\n",
       "0   v West Indies  0.105263\n",
       "1     v Australia  0.194444\n",
       "2   v New Zealand  0.142857\n",
       "3       v England  0.100000\n",
       "4  v South Africa  0.125000\n",
       "5    v Bangladesh  0.400000\n",
       "6     v Sri Lanka  0.277778"
      ]
     },
     "execution_count": 262,
     "metadata": {},
     "output_type": "execute_result"
    }
   ],
   "source": [
    "opponents = Test.Opposition.unique()\n",
    "probs = prob_of_century_vs_countries(opponents)\n",
    "century_df = pd.DataFrame({'Opponent':np.array(opponents),'Probs':probs}) \n",
    "century_df"
   ]
  },
  {
   "cell_type": "code",
   "execution_count": 259,
   "id": "2166ba95",
   "metadata": {},
   "outputs": [
    {
     "data": {
      "text/plain": [
       "<AxesSubplot:title={'center':'Chances of Virat hitting Century against an opponent'}, xlabel='Opponent', ylabel='Probs'>"
      ]
     },
     "execution_count": 259,
     "metadata": {},
     "output_type": "execute_result"
    },
    {
     "data": {
      "image/png": "[encoded data removed]",
      "text/plain": [
       "<Figure size 720x360 with 1 Axes>"
      ]
     },
     "metadata": {
      "needs_background": "light"
     },
     "output_type": "display_data"
    }
   ],
   "source": [
    "plt.figure(figsize=(10,5))\n",
    "plt.title(\"Chances of Virat hitting Century against an opponent\")\n",
    "sn.barplot(x='Opponent',y='Probs',data=century_df)"
   ]
  },
  {
   "cell_type": "markdown",
   "id": "0b2fcfcd",
   "metadata": {},
   "source": [
    "<h3>Computing Averages against each opponent</h3>"
   ]
  },
  {
   "cell_type": "markdown",
   "id": "56503c2e",
   "metadata": {},
   "source": [
    "<h3>Averages Away vs Home</h3>"
   ]
  },
  {
   "cell_type": "code",
   "execution_count": 297,
   "id": "68566b75",
   "metadata": {},
   "outputs": [
    {
     "data": {
      "text/plain": [
       "<AxesSubplot:title={'center':'Averages Away vs Home'}, xlabel='Opposition', ylabel='Runs'>"
      ]
     },
     "execution_count": 297,
     "metadata": {},
     "output_type": "execute_result"
    },
    {
     "data": {
      "image/png": "[encoded data removed]",
      "text/plain": [
       "<Figure size 720x360 with 1 Axes>"
      ]
     },
     "metadata": {
      "needs_background": "light"
     },
     "output_type": "display_data"
    }
   ],
   "source": [
    "plt.figure(figsize=(10,5))\n",
    "plt.title('Averages Away vs Home')\n",
    "sn.barplot(x = 'Opposition', y='Runs',hue='Away_Match',data=Test,estimator=np.mean)"
   ]
  },
  {
   "cell_type": "markdown",
   "id": "e4434d25",
   "metadata": {},
   "source": [
    "<h4>Quiet Impresive in Australia and South Africa</h4>"
   ]
  },
  {
   "cell_type": "markdown",
   "id": "309fe8b5",
   "metadata": {},
   "source": [
    "<h3>Runs Away vs Home</h3>"
   ]
  },
  {
   "cell_type": "code",
   "execution_count": 289,
   "id": "80111db4",
   "metadata": {},
   "outputs": [
    {
     "data": {
      "text/plain": [
       "<AxesSubplot:title={'center':'Number of Runs against each opponent Away vs Home'}, xlabel='Opposition', ylabel='Runs'>"
      ]
     },
     "execution_count": 289,
     "metadata": {},
     "output_type": "execute_result"
    },
    {
     "data": {
      "image/png": "[encoded data removed]",
      "text/plain": [
       "<Figure size 720x360 with 1 Axes>"
      ]
     },
     "metadata": {
      "needs_background": "light"
     },
     "output_type": "display_data"
    }
   ],
   "source": [
    "plt.figure(figsize=(10,5))\n",
    "plt.title('Number of Runs against each opponent Away vs Home')\n",
    "sn.barplot(x = 'Opposition', y='Runs',hue='Away_Match',data=Test,estimator=np.sum)"
   ]
  },
  {
   "cell_type": "markdown",
   "id": "cc0ce9b8",
   "metadata": {},
   "source": [
    "<p>Good Against England in both condition!!!, Also look at bins of Australia and South Africa. His Away record is just brilliant! </p>"
   ]
  },
  {
   "cell_type": "markdown",
   "id": "4f51d72e",
   "metadata": {},
   "source": [
    "<h3>Probability of Virat getting out on duck</h3>"
   ]
  },
  {
   "cell_type": "code",
   "execution_count": 290,
   "id": "aa058a93",
   "metadata": {},
   "outputs": [],
   "source": [
    "def prob_of_duck_vs_countries(opponents):\n",
    "    probs = []\n",
    "    for opponent in opponents:\n",
    "        Num_duck_against = Test.loc[(Test['Runs'] == 0) & (Test['Opposition'] == opponent)]\n",
    "        Total_Innings = Test.loc[(Test['Opposition'] == opponent)]\n",
    "        probs.append(len(Num_duck_against)/len(Total_Innings))\n",
    "    return probs"
   ]
  },
  {
   "cell_type": "code",
   "execution_count": 291,
   "id": "b6f5c537",
   "metadata": {},
   "outputs": [
    {
     "data": {
      "text/html": [
       "<div>\n",
       "<style scoped>\n",
       "    .dataframe tbody tr th:only-of-type {\n",
       "        vertical-align: middle;\n",
       "    }\n",
       "\n",
       "    .dataframe tbody tr th {\n",
       "        vertical-align: top;\n",
       "    }\n",
       "\n",
       "    .dataframe thead th {\n",
       "        text-align: right;\n",
       "    }\n",
       "</style>\n",
       "<table border=\"1\" class=\"dataframe\">\n",
       "  <thead>\n",
       "    <tr style=\"text-align: right;\">\n",
       "      <th></th>\n",
       "      <th>Opponent</th>\n",
       "      <th>Probs</th>\n",
       "    </tr>\n",
       "  </thead>\n",
       "  <tbody>\n",
       "    <tr>\n",
       "      <th>0</th>\n",
       "      <td>v West Indies</td>\n",
       "      <td>0.105263</td>\n",
       "    </tr>\n",
       "    <tr>\n",
       "      <th>1</th>\n",
       "      <td>v Australia</td>\n",
       "      <td>0.083333</td>\n",
       "    </tr>\n",
       "    <tr>\n",
       "      <th>2</th>\n",
       "      <td>v New Zealand</td>\n",
       "      <td>0.047619</td>\n",
       "    </tr>\n",
       "    <tr>\n",
       "      <th>3</th>\n",
       "      <td>v England</td>\n",
       "      <td>0.120000</td>\n",
       "    </tr>\n",
       "    <tr>\n",
       "      <th>4</th>\n",
       "      <td>v South Africa</td>\n",
       "      <td>0.000000</td>\n",
       "    </tr>\n",
       "    <tr>\n",
       "      <th>5</th>\n",
       "      <td>v Bangladesh</td>\n",
       "      <td>0.200000</td>\n",
       "    </tr>\n",
       "    <tr>\n",
       "      <th>6</th>\n",
       "      <td>v Sri Lanka</td>\n",
       "      <td>0.055556</td>\n",
       "    </tr>\n",
       "  </tbody>\n",
       "</table>\n",
       "</div>"
      ],
      "text/plain": [
       "         Opponent     Probs\n",
       "0   v West Indies  0.105263\n",
       "1     v Australia  0.083333\n",
       "2   v New Zealand  0.047619\n",
       "3       v England  0.120000\n",
       "4  v South Africa  0.000000\n",
       "5    v Bangladesh  0.200000\n",
       "6     v Sri Lanka  0.055556"
      ]
     },
     "execution_count": 291,
     "metadata": {},
     "output_type": "execute_result"
    }
   ],
   "source": [
    "opponents = Test.Opposition.unique()\n",
    "probs_dk = prob_of_duck_vs_countries(opponents)\n",
    "century_df = pd.DataFrame({'Opponent':np.array(opponents),'Probs':probs_dk}) \n",
    "century_df"
   ]
  },
  {
   "cell_type": "code",
   "execution_count": 292,
   "id": "b98b4db0",
   "metadata": {},
   "outputs": [
    {
     "data": {
      "text/plain": [
       "<AxesSubplot:title={'center':'Chances of Virat register duck against an opponent'}, xlabel='Opponent', ylabel='Probs'>"
      ]
     },
     "execution_count": 292,
     "metadata": {},
     "output_type": "execute_result"
    },
    {
     "data": {
      "image/png": "[encoded data removed]",
      "text/plain": [
       "<Figure size 720x360 with 1 Axes>"
      ]
     },
     "metadata": {
      "needs_background": "light"
     },
     "output_type": "display_data"
    }
   ],
   "source": [
    "plt.figure(figsize=(10,5))\n",
    "plt.title(\"Chances of Virat register duck against an opponent\")\n",
    "sn.barplot(x='Opponent',y='Probs',data=century_df)"
   ]
  },
  {
   "cell_type": "markdown",
   "id": "b3ceaa8c",
   "metadata": {},
   "source": [
    "<b>No ducks against SA</b>"
   ]
  },
  {
   "cell_type": "markdown",
   "id": "7886b6d6",
   "metadata": {},
   "source": [
    "<h1>Conclusion of Analysis</h1>"
   ]
  },
  {
   "cell_type": "markdown",
   "id": "6fc0c8c9",
   "metadata": {},
   "source": [
    "<p>To conclude things,\n",
    "    <ul>\n",
    "        <li>Has most number of ducks vs England but also significant number of centuries against them.</li>\n",
    "        <li>Has most number of Centuries vs Australia in away matches. Also has pretty record there than his home playing against them.</li>\n",
    "        <li>Has very impresive record against South Africa. Has not registered a single duck alongwith hitting plenty of Runs in Away and Home matches</li>\n",
    "        <li>Has century in almost every conditions</li>\n",
    "        <li>Good record against asian teams and New Zealand</li>\n",
    "        <li>Average performance vs West Indies</li>\n",
    "    </ul>\n",
    "</p>"
   ]
  }
 ],
 "metadata": {
  "kernelspec": {
   "display_name": "Python 3 (ipykernel)",
   "language": "python",
   "name": "python3"
  },
  "language_info": {
   "codemirror_mode": {
    "name": "ipython",
    "version": 3
   },
   "file_extension": ".py",
   "mimetype": "text/x-python",
   "name": "python",
   "nbconvert_exporter": "python",
   "pygments_lexer": "ipython3",
   "version": "3.9.6"
  }
 },
 "nbformat": 4,
 "nbformat_minor": 5
}
